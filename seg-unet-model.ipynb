{
 "cells": [
  {
   "cell_type": "markdown",
   "id": "18f36680",
   "metadata": {},
   "source": [
    "# Image Segmentation"
   ]
  },
  {
   "cell_type": "markdown",
   "id": "85ec92a6",
   "metadata": {},
   "source": [
    "This is the training process of an image segmentation model. It includes: data preparation, model construction, model training, model evaluation and model testing."
   ]
  },
  {
   "cell_type": "code",
   "execution_count": 1,
   "id": "ee1a7b58",
   "metadata": {},
   "outputs": [],
   "source": [
    "import tensorflow as tf\n",
    "import glob\n",
    "import cv2\n",
    "import os\n",
    "import numpy as np\n",
    "from matplotlib import pyplot as plt"
   ]
  },
  {
   "cell_type": "code",
   "execution_count": 2,
   "id": "ec493abd",
   "metadata": {},
   "outputs": [
    {
     "name": "stderr",
     "output_type": "stream",
     "text": [
      "Using TensorFlow backend.\n"
     ]
    },
    {
     "name": "stdout",
     "output_type": "stream",
     "text": [
      "Segmentation Models: using `keras` framework.\n"
     ]
    }
   ],
   "source": [
    "import segmentation_models as sm"
   ]
  },
  {
   "cell_type": "code",
   "execution_count": 3,
   "id": "ffbcce56",
   "metadata": {},
   "outputs": [],
   "source": [
    "BACKBONE = 'resnet34'\n",
    "preprocess_input = sm.get_preprocessing(BACKBONE)"
   ]
  },
  {
   "cell_type": "code",
   "execution_count": 4,
   "id": "d9039997",
   "metadata": {},
   "outputs": [],
   "source": [
    "SIZE_X = 128 #Resize images (height  = X, width = Y)\n",
    "SIZE_Y = 128"
   ]
  },
  {
   "cell_type": "code",
   "execution_count": 5,
   "id": "4e956422",
   "metadata": {},
   "outputs": [],
   "source": [
    "#for directory_path in glob.glob('D:\\\\PneumothoraxDetection\\\\siim-raw\\\\train-dataset\\\\train_png\\\\train_images'):\n",
    "#for directory_path in glob.glob('D:\\\\PneumothoraxDetection\\\\siim-raw\\\\train-dataset\\\\mask_png\\\\masks'):"
   ]
  },
  {
   "cell_type": "markdown",
   "id": "1bf29001",
   "metadata": {},
   "source": [
    "## Data preparation"
   ]
  },
  {
   "cell_type": "code",
   "execution_count": 6,
   "id": "fae19afe",
   "metadata": {},
   "outputs": [
    {
     "name": "stdout",
     "output_type": "stream",
     "text": [
      "(1041, 128, 128)\n"
     ]
    }
   ],
   "source": [
    "# Prepare training data\n",
    "train_images = []\n",
    "for directory_path in glob.glob('D:\\\\PneumothoraxDetection\\\\siim-raw\\\\train-dataset\\\\train_raw_png_part2'):\n",
    "    for img_path in glob.glob(os.path.join(directory_path, \"*.png\")):\n",
    "        #print(img_path)\n",
    "        img = cv2.imread(img_path, cv2.IMREAD_COLOR)       \n",
    "        img = cv2.resize(img, (SIZE_Y, SIZE_X))\n",
    "        img = cv2.cvtColor(img, cv2.COLOR_RGB2GRAY)\n",
    "        train_images.append(img)\n",
    "\n",
    "        #train_labels.append(label)\n",
    "#Convert list to array for machine learning processing        \n",
    "train_images = np.array(train_images)\n",
    "print(train_images.shape)"
   ]
  },
  {
   "cell_type": "code",
   "execution_count": 7,
   "id": "2a225471",
   "metadata": {},
   "outputs": [
    {
     "name": "stdout",
     "output_type": "stream",
     "text": [
      "(1041, 128, 128)\n"
     ]
    }
   ],
   "source": [
    "# Prepare training mask data\n",
    "train_masks = [] \n",
    "for directory_path in glob.glob('D:\\\\PneumothoraxDetection\\\\siim-raw\\\\train-dataset\\\\mask_raw_png_part2'):\n",
    "    for mask_path in glob.glob(os.path.join(directory_path, \"*.png\")):\n",
    "        mask = cv2.imread(mask_path, 0)\n",
    "        #print(mask_path)\n",
    "        mask = cv2.resize(mask, (SIZE_Y, SIZE_X))\n",
    "        #mask = cv2.cvtColor(mask, cv2.COLOR_RGB2BGR)\n",
    "        train_masks.append(mask)\n",
    "        \n",
    "        #train_labels.append(label)\n",
    "#Convert list to array for machine learning processing          \n",
    "train_masks = np.array(train_masks)\n",
    "print(train_masks.shape)"
   ]
  },
  {
   "cell_type": "code",
   "execution_count": 8,
   "id": "8f6b32c8",
   "metadata": {},
   "outputs": [
    {
     "name": "stdout",
     "output_type": "stream",
     "text": [
      "WARNING:tensorflow:From C:\\Users\\xxxxx\\AppData\\Local\\Temp\\ipykernel_17616\\1117228084.py:2: The name tf.Session is deprecated. Please use tf.compat.v1.Session instead.\n",
      "\n"
     ]
    }
   ],
   "source": [
    "import tensorflow as tf\n",
    "sess = tf.Session()"
   ]
  },
  {
   "cell_type": "code",
   "execution_count": 9,
   "id": "40079c55",
   "metadata": {},
   "outputs": [],
   "source": [
    "#Use customary x_train and y_train variables\n",
    "X = train_images\n",
    "Y = train_masks\n",
    "#Y = np.expand_dims(Y, axis=3) #May not be necessary.. leftover from previous code "
   ]
  },
  {
   "cell_type": "code",
   "execution_count": 10,
   "id": "6290a924",
   "metadata": {},
   "outputs": [
    {
     "data": {
      "text/plain": [
       "(1041, 128, 128)"
      ]
     },
     "execution_count": 10,
     "metadata": {},
     "output_type": "execute_result"
    }
   ],
   "source": [
    "X.shape\n",
    "Y.shape  #（X.shape : same）"
   ]
  },
  {
   "cell_type": "code",
   "execution_count": 11,
   "id": "d432b27b",
   "metadata": {},
   "outputs": [],
   "source": [
    "#X = cv2.resize(X, (128, 1))\n",
    "#Y = cv2.resize(Y, (128, 1))"
   ]
  },
  {
   "cell_type": "code",
   "execution_count": 12,
   "id": "9c6c6f72",
   "metadata": {},
   "outputs": [
    {
     "data": {
      "text/plain": [
       "(1041, 128, 128, 1)"
      ]
     },
     "execution_count": 12,
     "metadata": {},
     "output_type": "execute_result"
    }
   ],
   "source": [
    "X = np.expand_dims(X, axis=3)\n",
    "X.shape"
   ]
  },
  {
   "cell_type": "code",
   "execution_count": 13,
   "id": "ac39bdeb",
   "metadata": {},
   "outputs": [
    {
     "data": {
      "text/plain": [
       "(1041, 128, 128, 1)"
      ]
     },
     "execution_count": 13,
     "metadata": {},
     "output_type": "execute_result"
    }
   ],
   "source": [
    "Y = np.expand_dims(Y, axis=3)\n",
    "Y.shape"
   ]
  },
  {
   "cell_type": "code",
   "execution_count": 14,
   "id": "ed13cec3",
   "metadata": {},
   "outputs": [],
   "source": [
    "from sklearn.model_selection import train_test_split\n",
    "x_train, x_val, y_train, y_val = train_test_split(X, Y, test_size=0.3, random_state=42)"
   ]
  },
  {
   "cell_type": "code",
   "execution_count": 15,
   "id": "28d35d2e",
   "metadata": {},
   "outputs": [],
   "source": [
    "# preprocess input\n",
    "x_train = preprocess_input(x_train)\n",
    "x_val = preprocess_input(x_val)"
   ]
  },
  {
   "cell_type": "code",
   "execution_count": 16,
   "id": "4003e358",
   "metadata": {},
   "outputs": [],
   "source": [
    "from tensorflow.python.keras.layers import Input, Conv2D, MaxPooling2D, Dropout, concatenate, UpSampling2D, Conv2DTranspose\n",
    "from tensorflow.python.keras.optimizers import Adam\n",
    "from tensorflow.python.keras.regularizers import l2\n",
    "from tensorflow.python.keras.preprocessing.image import ImageDataGenerator\n",
    "from tensorflow.python.keras.callbacks import ModelCheckpoint, LearningRateScheduler, ReduceLROnPlateau, EarlyStopping"
   ]
  },
  {
   "cell_type": "code",
   "execution_count": 17,
   "id": "5ae2a687",
   "metadata": {},
   "outputs": [],
   "source": [
    "from tensorflow.python.keras.preprocessing import image\n",
    "from tensorflow.python.keras.models import Model"
   ]
  },
  {
   "cell_type": "markdown",
   "id": "262d8223",
   "metadata": {},
   "source": [
    "## Build unet model"
   ]
  },
  {
   "cell_type": "code",
   "execution_count": 18,
   "id": "540ac70b",
   "metadata": {},
   "outputs": [],
   "source": [
    "def build_unet(shape):\n",
    "    input_layer = Input(shape = shape)\n",
    "    \n",
    "    conv1 = Conv2D(32, (3, 3), activation = 'relu', padding = 'same')(input_layer)\n",
    "    conv1 = Conv2D(32, (3, 3), activation = 'relu', padding = 'same')(conv1)\n",
    "    pool1 = MaxPooling2D(pool_size = (2, 2))(conv1)\n",
    "    \n",
    "    conv2 = Conv2D(64, (3, 3), activation = 'relu', padding = 'same')(pool1)\n",
    "    conv2 = Conv2D(64, (3, 3), activation = 'relu', padding = 'same')(conv2)\n",
    "    pool2 = MaxPooling2D(pool_size = (2, 2))(conv2)\n",
    "\n",
    "    conv3 = Conv2D(128, (3, 3), activation = 'relu', padding = 'same')(pool2)\n",
    "    conv3 = Conv2D(128, (3, 3), activation = 'relu', padding = 'same')(conv3)\n",
    "    pool3 = MaxPooling2D(pool_size = (2, 2))(conv3)\n",
    "\n",
    "    conv4 = Conv2D(256, (3, 3), activation = 'relu', padding = 'same')(pool3)\n",
    "    conv4 = Conv2D(256, (3, 3), activation = 'relu', padding = 'same')(conv4)\n",
    "    pool4 = MaxPooling2D(pool_size = (2, 2))(conv4)\n",
    "\n",
    "    conv5 = Conv2D(512, (3, 3), activation = 'relu', padding = 'same')(pool4)\n",
    "    conv5 = Conv2D(512, (3, 3), activation = 'relu', padding = 'same')(conv5)\n",
    "    \n",
    "    up6 = concatenate([Conv2DTranspose(256, (2, 2), strides = (2, 2), padding = 'same')(conv5), conv4], axis = 3)\n",
    "    conv6 = Conv2D(256, (3, 3), activation = 'relu', padding = 'same')(up6)\n",
    "    conv6 = Conv2D(256, (3, 3), activation = 'relu', padding = 'same')(conv6)\n",
    "\n",
    "    up7 = concatenate([Conv2DTranspose(128, (2, 2), strides = (2, 2), padding = 'same')(conv6), conv3], axis = 3)\n",
    "    conv7 = Conv2D(128, (3, 3), activation = 'relu', padding = 'same')(up7)\n",
    "    conv7 = Conv2D(128, (3, 3), activation = 'relu', padding = 'same')(conv7)\n",
    "\n",
    "    up8 = concatenate([Conv2DTranspose(64, (2, 2), strides = (2, 2), padding = 'same')(conv7), conv2], axis = 3)\n",
    "    conv8 = Conv2D(64, (3, 3), activation = 'relu', padding = 'same')(up8)\n",
    "    conv8 = Conv2D(64, (3, 3), activation = 'relu', padding = 'same')(conv8)\n",
    "\n",
    "    up9 = concatenate([Conv2DTranspose(32, (2, 2), strides = (2, 2), padding = 'same')(conv8), conv1], axis = 3)\n",
    "    conv9 = Conv2D(32, (3, 3), activation = 'relu', padding = 'same')(up9)\n",
    "    conv9 = Conv2D(32, (3, 3), activation = 'relu', padding = 'same')(conv9)\n",
    "\n",
    "    conv10 = Conv2D(1, (1, 1), activation = 'sigmoid')(conv9)\n",
    "    \n",
    "    return Model(input_layer, conv10)"
   ]
  },
  {
   "cell_type": "code",
   "execution_count": 19,
   "id": "11ffb016",
   "metadata": {},
   "outputs": [
    {
     "name": "stdout",
     "output_type": "stream",
     "text": [
      "WARNING:tensorflow:From C:\\Users\\xxxxx\\.conda\\envs\\python3.7\\lib\\site-packages\\tensorflow_core\\python\\ops\\resource_variable_ops.py:1630: calling BaseResourceVariable.__init__ (from tensorflow.python.ops.resource_variable_ops) with constraint is deprecated and will be removed in a future version.\n",
      "Instructions for updating:\n",
      "If using Keras pass *_constraint arguments to layers.\n"
     ]
    }
   ],
   "source": [
    "# define model\n",
    "model = build_unet((128, 128, 1))"
   ]
  },
  {
   "cell_type": "code",
   "execution_count": 20,
   "id": "9e5ccf5c",
   "metadata": {},
   "outputs": [],
   "source": [
    "def dice_coef(y_true, y_pred):\n",
    "    y_true_f = K.flatten(y_true)\n",
    "    y_pred_f = K.flatten(y_pred)\n",
    "    intersection = K.sum(y_true_f * y_pred_f)\n",
    "    return (2. * intersection + K.epsilon()) / (K.sum(y_true_f) + K.sum(y_pred_f) + K.epsilon())\n",
    "\n",
    "def dice_coef_loss(y_true, y_pred):\n",
    "    return -dice_coef(y_true, y_pred)"
   ]
  },
  {
   "cell_type": "code",
   "execution_count": 21,
   "id": "7f9bd10c",
   "metadata": {
    "scrolled": true
   },
   "outputs": [],
   "source": [
    "from keras import backend as K"
   ]
  },
  {
   "cell_type": "code",
   "execution_count": 22,
   "id": "15eebf4a",
   "metadata": {},
   "outputs": [
    {
     "name": "stdout",
     "output_type": "stream",
     "text": [
      "Model: \"model\"\n",
      "__________________________________________________________________________________________________\n",
      "Layer (type)                    Output Shape         Param #     Connected to                     \n",
      "==================================================================================================\n",
      "input_1 (InputLayer)            [(None, 128, 128, 1) 0                                            \n",
      "__________________________________________________________________________________________________\n",
      "conv2d (Conv2D)                 (None, 128, 128, 32) 320         input_1[0][0]                    \n",
      "__________________________________________________________________________________________________\n",
      "conv2d_1 (Conv2D)               (None, 128, 128, 32) 9248        conv2d[0][0]                     \n",
      "__________________________________________________________________________________________________\n",
      "max_pooling2d (MaxPooling2D)    (None, 64, 64, 32)   0           conv2d_1[0][0]                   \n",
      "__________________________________________________________________________________________________\n",
      "conv2d_2 (Conv2D)               (None, 64, 64, 64)   18496       max_pooling2d[0][0]              \n",
      "__________________________________________________________________________________________________\n",
      "conv2d_3 (Conv2D)               (None, 64, 64, 64)   36928       conv2d_2[0][0]                   \n",
      "__________________________________________________________________________________________________\n",
      "max_pooling2d_1 (MaxPooling2D)  (None, 32, 32, 64)   0           conv2d_3[0][0]                   \n",
      "__________________________________________________________________________________________________\n",
      "conv2d_4 (Conv2D)               (None, 32, 32, 128)  73856       max_pooling2d_1[0][0]            \n",
      "__________________________________________________________________________________________________\n",
      "conv2d_5 (Conv2D)               (None, 32, 32, 128)  147584      conv2d_4[0][0]                   \n",
      "__________________________________________________________________________________________________\n",
      "max_pooling2d_2 (MaxPooling2D)  (None, 16, 16, 128)  0           conv2d_5[0][0]                   \n",
      "__________________________________________________________________________________________________\n",
      "conv2d_6 (Conv2D)               (None, 16, 16, 256)  295168      max_pooling2d_2[0][0]            \n",
      "__________________________________________________________________________________________________\n",
      "conv2d_7 (Conv2D)               (None, 16, 16, 256)  590080      conv2d_6[0][0]                   \n",
      "__________________________________________________________________________________________________\n",
      "max_pooling2d_3 (MaxPooling2D)  (None, 8, 8, 256)    0           conv2d_7[0][0]                   \n",
      "__________________________________________________________________________________________________\n",
      "conv2d_8 (Conv2D)               (None, 8, 8, 512)    1180160     max_pooling2d_3[0][0]            \n",
      "__________________________________________________________________________________________________\n",
      "conv2d_9 (Conv2D)               (None, 8, 8, 512)    2359808     conv2d_8[0][0]                   \n",
      "__________________________________________________________________________________________________\n",
      "conv2d_transpose (Conv2DTranspo (None, 16, 16, 256)  524544      conv2d_9[0][0]                   \n",
      "__________________________________________________________________________________________________\n",
      "concatenate (Concatenate)       (None, 16, 16, 512)  0           conv2d_transpose[0][0]           \n",
      "                                                                 conv2d_7[0][0]                   \n",
      "__________________________________________________________________________________________________\n",
      "conv2d_10 (Conv2D)              (None, 16, 16, 256)  1179904     concatenate[0][0]                \n",
      "__________________________________________________________________________________________________\n",
      "conv2d_11 (Conv2D)              (None, 16, 16, 256)  590080      conv2d_10[0][0]                  \n",
      "__________________________________________________________________________________________________\n",
      "conv2d_transpose_1 (Conv2DTrans (None, 32, 32, 128)  131200      conv2d_11[0][0]                  \n",
      "__________________________________________________________________________________________________\n",
      "concatenate_1 (Concatenate)     (None, 32, 32, 256)  0           conv2d_transpose_1[0][0]         \n",
      "                                                                 conv2d_5[0][0]                   \n",
      "__________________________________________________________________________________________________\n",
      "conv2d_12 (Conv2D)              (None, 32, 32, 128)  295040      concatenate_1[0][0]              \n",
      "__________________________________________________________________________________________________\n",
      "conv2d_13 (Conv2D)              (None, 32, 32, 128)  147584      conv2d_12[0][0]                  \n",
      "__________________________________________________________________________________________________\n",
      "conv2d_transpose_2 (Conv2DTrans (None, 64, 64, 64)   32832       conv2d_13[0][0]                  \n",
      "__________________________________________________________________________________________________\n",
      "concatenate_2 (Concatenate)     (None, 64, 64, 128)  0           conv2d_transpose_2[0][0]         \n",
      "                                                                 conv2d_3[0][0]                   \n",
      "__________________________________________________________________________________________________\n",
      "conv2d_14 (Conv2D)              (None, 64, 64, 64)   73792       concatenate_2[0][0]              \n",
      "__________________________________________________________________________________________________\n",
      "conv2d_15 (Conv2D)              (None, 64, 64, 64)   36928       conv2d_14[0][0]                  \n",
      "__________________________________________________________________________________________________\n",
      "conv2d_transpose_3 (Conv2DTrans (None, 128, 128, 32) 8224        conv2d_15[0][0]                  \n",
      "__________________________________________________________________________________________________\n",
      "concatenate_3 (Concatenate)     (None, 128, 128, 64) 0           conv2d_transpose_3[0][0]         \n",
      "                                                                 conv2d_1[0][0]                   \n",
      "__________________________________________________________________________________________________\n",
      "conv2d_16 (Conv2D)              (None, 128, 128, 32) 18464       concatenate_3[0][0]              \n",
      "__________________________________________________________________________________________________\n",
      "conv2d_17 (Conv2D)              (None, 128, 128, 32) 9248        conv2d_16[0][0]                  \n",
      "__________________________________________________________________________________________________\n",
      "conv2d_18 (Conv2D)              (None, 128, 128, 1)  33          conv2d_17[0][0]                  \n",
      "==================================================================================================\n",
      "Total params: 7,759,521\n",
      "Trainable params: 7,759,521\n",
      "Non-trainable params: 0\n",
      "__________________________________________________________________________________________________\n"
     ]
    }
   ],
   "source": [
    "model.summary()\n",
    "model.compile(optimizer = Adam(lr = 1e-5), loss = dice_coef_loss, metrics = [dice_coef, 'binary_accuracy'])"
   ]
  },
  {
   "cell_type": "markdown",
   "id": "b69655e0",
   "metadata": {},
   "source": [
    "## Train the model"
   ]
  },
  {
   "cell_type": "code",
   "execution_count": 23,
   "id": "5e235785",
   "metadata": {},
   "outputs": [
    {
     "name": "stdout",
     "output_type": "stream",
     "text": [
      "Train on 728 samples, validate on 313 samples\n",
      "Epoch 1/30\n",
      "728/728 [==============================] - 125s 172ms/sample - loss: -0.6423 - dice_coef: 0.6435 - binary_accuracy: 0.0169 - val_loss: -0.6667 - val_dice_coef: 0.6576 - val_binary_accuracy: 0.0153\n",
      "Epoch 2/30\n",
      "728/728 [==============================] - 128s 176ms/sample - loss: -0.6653 - dice_coef: 0.6635 - binary_accuracy: 0.0190 - val_loss: -0.6349 - val_dice_coef: 0.6210 - val_binary_accuracy: 0.0264\n",
      "Epoch 3/30\n",
      "728/728 [==============================] - 123s 169ms/sample - loss: -0.7009 - dice_coef: 0.7024 - binary_accuracy: 0.0392 - val_loss: -0.6445 - val_dice_coef: 0.6489 - val_binary_accuracy: 0.0540\n",
      "Epoch 4/30\n",
      "728/728 [==============================] - 121s 167ms/sample - loss: -0.6965 - dice_coef: 0.6975 - binary_accuracy: 0.0878 - val_loss: -0.7154 - val_dice_coef: 0.7170 - val_binary_accuracy: 0.1255\n",
      "Epoch 5/30\n",
      "728/728 [==============================] - 123s 169ms/sample - loss: -0.7444 - dice_coef: 0.7436 - binary_accuracy: 0.2181 - val_loss: -0.7212 - val_dice_coef: 0.7055 - val_binary_accuracy: 0.2161\n",
      "Epoch 6/30\n",
      "728/728 [==============================] - 122s 168ms/sample - loss: -0.7330 - dice_coef: 0.7317 - binary_accuracy: 0.3802 - val_loss: -0.7806 - val_dice_coef: 0.7635 - val_binary_accuracy: 0.3570\n",
      "Epoch 7/30\n",
      "728/728 [==============================] - 121s 166ms/sample - loss: -0.8230 - dice_coef: 0.8233 - binary_accuracy: 0.5193 - val_loss: -0.8309 - val_dice_coef: 0.8401 - val_binary_accuracy: 0.5483\n",
      "Epoch 8/30\n",
      "728/728 [==============================] - 120s 165ms/sample - loss: -0.8389 - dice_coef: 0.8410 - binary_accuracy: 0.7250 - val_loss: -0.8109 - val_dice_coef: 0.8046 - val_binary_accuracy: 0.4379\n",
      "Epoch 9/30\n",
      "728/728 [==============================] - 121s 166ms/sample - loss: -0.9088 - dice_coef: 0.9088 - binary_accuracy: 0.6263 - val_loss: -0.8972 - val_dice_coef: 0.8775 - val_binary_accuracy: 0.8666\n",
      "Epoch 10/30\n",
      "728/728 [==============================] - 120s 165ms/sample - loss: -0.9563 - dice_coef: 0.9574 - binary_accuracy: 0.8417 - val_loss: -0.8049 - val_dice_coef: 0.7873 - val_binary_accuracy: 0.8961\n",
      "Epoch 11/30\n",
      "728/728 [==============================] - 121s 166ms/sample - loss: -0.8380 - dice_coef: 0.8395 - binary_accuracy: 0.7819 - val_loss: -0.7822 - val_dice_coef: 0.7913 - val_binary_accuracy: 0.9092\n",
      "Epoch 12/30\n",
      "728/728 [==============================] - 122s 167ms/sample - loss: -0.8952 - dice_coef: 0.8974 - binary_accuracy: 0.8482 - val_loss: -0.9243 - val_dice_coef: 0.9041 - val_binary_accuracy: 0.6812\n",
      "Epoch 13/30\n",
      "728/728 [==============================] - 124s 171ms/sample - loss: -0.9091 - dice_coef: 0.9093 - binary_accuracy: 0.8264 - val_loss: -0.8411 - val_dice_coef: 0.8227 - val_binary_accuracy: 0.8615\n",
      "Epoch 14/30\n",
      "728/728 [==============================] - 120s 165ms/sample - loss: -0.9701 - dice_coef: 0.9685 - binary_accuracy: 0.8412 - val_loss: -0.8827 - val_dice_coef: 0.8634 - val_binary_accuracy: 0.8477\n",
      "Epoch 15/30\n",
      "728/728 [==============================] - 111s 152ms/sample - loss: -0.9394 - dice_coef: 0.9396 - binary_accuracy: 0.8608 - val_loss: -0.8318 - val_dice_coef: 0.8136 - val_binary_accuracy: 0.7809\n",
      "Epoch 16/30\n",
      "728/728 [==============================] - 105s 145ms/sample - loss: -0.9439 - dice_coef: 0.9447 - binary_accuracy: 0.7950 - val_loss: -0.8978 - val_dice_coef: 0.8782 - val_binary_accuracy: 0.8614\n",
      "Epoch 17/30\n",
      "728/728 [==============================] - 105s 145ms/sample - loss: -0.9332 - dice_coef: 0.9306 - binary_accuracy: 0.8589 - val_loss: -0.8487 - val_dice_coef: 0.8625 - val_binary_accuracy: 0.7982\n",
      "Epoch 18/30\n",
      "728/728 [==============================] - 106s 145ms/sample - loss: -0.9455 - dice_coef: 0.9429 - binary_accuracy: 0.8134 - val_loss: -0.8689 - val_dice_coef: 0.8521 - val_binary_accuracy: 0.8223\n",
      "Epoch 19/30\n",
      "728/728 [==============================] - 105s 144ms/sample - loss: -0.9191 - dice_coef: 0.9207 - binary_accuracy: 0.7233 - val_loss: -0.8786 - val_dice_coef: 0.8594 - val_binary_accuracy: 0.8570\n",
      "Epoch 20/30\n",
      "728/728 [==============================] - 105s 145ms/sample - loss: -0.9447 - dice_coef: 0.9460 - binary_accuracy: 0.7944 - val_loss: -0.8768 - val_dice_coef: 0.8577 - val_binary_accuracy: 0.8478\n",
      "Epoch 21/30\n",
      "728/728 [==============================] - 105s 144ms/sample - loss: -0.9536 - dice_coef: 0.9543 - binary_accuracy: 0.7574 - val_loss: -0.9497 - val_dice_coef: 0.9289 - val_binary_accuracy: 0.7980\n",
      "Epoch 22/30\n",
      "728/728 [==============================] - 106s 145ms/sample - loss: -0.9313 - dice_coef: 0.9327 - binary_accuracy: 0.7892 - val_loss: -0.8493 - val_dice_coef: 0.8307 - val_binary_accuracy: 0.8743\n",
      "Epoch 23/30\n",
      "728/728 [==============================] - 105s 144ms/sample - loss: -0.9709 - dice_coef: 0.9711 - binary_accuracy: 0.8420 - val_loss: -0.9121 - val_dice_coef: 0.8922 - val_binary_accuracy: 0.8423\n",
      "Epoch 24/30\n",
      "728/728 [==============================] - 106s 146ms/sample - loss: -0.9639 - dice_coef: 0.9643 - binary_accuracy: 0.8632 - val_loss: -0.7851 - val_dice_coef: 0.7679 - val_binary_accuracy: 0.8656\n",
      "Epoch 25/30\n",
      "728/728 [==============================] - 105s 145ms/sample - loss: -1.0124 - dice_coef: 1.0114 - binary_accuracy: 0.8127 - val_loss: -0.8856 - val_dice_coef: 0.8662 - val_binary_accuracy: 0.8532\n",
      "Epoch 26/30\n",
      "728/728 [==============================] - 105s 144ms/sample - loss: -1.0459 - dice_coef: 1.0431 - binary_accuracy: 0.8270 - val_loss: -0.8184 - val_dice_coef: 0.8389 - val_binary_accuracy: 0.8728\n",
      "Epoch 27/30\n",
      "728/728 [==============================] - 105s 144ms/sample - loss: -0.9815 - dice_coef: 0.9789 - binary_accuracy: 0.8417 - val_loss: -0.8685 - val_dice_coef: 0.8495 - val_binary_accuracy: 0.8539\n",
      "Epoch 28/30\n",
      "728/728 [==============================] - 105s 144ms/sample - loss: -1.0450 - dice_coef: 1.0456 - binary_accuracy: 0.8150 - val_loss: -0.8272 - val_dice_coef: 0.8342 - val_binary_accuracy: 0.7826\n",
      "Epoch 29/30\n",
      "728/728 [==============================] - 105s 145ms/sample - loss: -1.0300 - dice_coef: 1.0272 - binary_accuracy: 0.8413 - val_loss: -0.9295 - val_dice_coef: 0.9091 - val_binary_accuracy: 0.7765\n",
      "Epoch 30/30\n",
      "728/728 [==============================] - 106s 145ms/sample - loss: -1.0598 - dice_coef: 1.0609 - binary_accuracy: 0.8448 - val_loss: -0.8291 - val_dice_coef: 0.8110 - val_binary_accuracy: 0.9236\n"
     ]
    }
   ],
   "source": [
    "history=model.fit(x_train, \n",
    "          y_train,\n",
    "          batch_size=10, \n",
    "          epochs=30,\n",
    "          verbose=1,\n",
    "          validation_data=(x_val, y_val))"
   ]
  },
  {
   "cell_type": "markdown",
   "id": "d62b21b0",
   "metadata": {},
   "source": [
    "## Evaluate the model"
   ]
  },
  {
   "cell_type": "code",
   "execution_count": 32,
   "id": "816b0a1c",
   "metadata": {},
   "outputs": [
    {
     "data": {
      "image/png": "[encoded data removed]",
      "text/plain": [
       "<Figure size 432x288 with 1 Axes>"
      ]
     },
     "metadata": {
      "needs_background": "light"
     },
     "output_type": "display_data"
    }
   ],
   "source": [
    "loss = history.history['loss']\n",
    "val_loss = history.history['val_loss']\n",
    "epochs = range(1, len(loss) + 1)\n",
    "plt.plot(epochs, loss, 'y', label='Training loss')\n",
    "plt.plot(epochs, val_loss, 'r', label='Validation loss')\n",
    "plt.title('Training and validation loss')\n",
    "plt.xlabel('Epochs')\n",
    "plt.ylabel('Loss')\n",
    "plt.legend()\n",
    "plt.savefig(os.getcwd()+'\\static\\model\\seg-loss.png')\n",
    "plt.show()"
   ]
  },
  {
   "cell_type": "code",
   "execution_count": 33,
   "id": "a4c3ae89",
   "metadata": {},
   "outputs": [
    {
     "name": "stdout",
     "output_type": "stream",
     "text": [
      "dict_keys(['loss', 'dice_coef', 'binary_accuracy', 'val_loss', 'val_dice_coef', 'val_binary_accuracy'])\n"
     ]
    },
    {
     "data": {
      "image/png": "[encoded data removed]",
      "text/plain": [
       "<Figure size 1440x360 with 1 Axes>"
      ]
     },
     "metadata": {
      "needs_background": "light"
     },
     "output_type": "display_data"
    }
   ],
   "source": [
    "# list all data in history\n",
    "print(history.history.keys())\n",
    "# summarize history for accuracy\n",
    "plt.figure(figsize=(20,5))\n",
    "plt.subplot(1,2,1)\n",
    "plt.plot(history.history['binary_accuracy'])\n",
    "plt.plot(history.history['val_binary_accuracy'])\n",
    "plt.title('model accuracy')\n",
    "plt.ylabel('accuracy')\n",
    "plt.xlabel('epoch')\n",
    "plt.legend(['train', 'test'], loc='upper left')\n",
    "plt.savefig(os.getcwd()+'\\static\\model\\seg-accuracy.png')"
   ]
  },
  {
   "cell_type": "code",
   "execution_count": null,
   "id": "49daa63f",
   "metadata": {},
   "outputs": [],
   "source": [
    "#model.save('unet-seg-03.h5')"
   ]
  },
  {
   "cell_type": "code",
   "execution_count": null,
   "id": "56a24dd1",
   "metadata": {},
   "outputs": [],
   "source": [
    "from tensorflow import keras\n",
    "#model = keras.models.load_model('unet-seg-03.h5', compile=False)"
   ]
  },
  {
   "cell_type": "markdown",
   "id": "7bae520c",
   "metadata": {},
   "source": [
    "## Test the model"
   ]
  },
  {
   "cell_type": "code",
   "execution_count": null,
   "id": "a77e5f51",
   "metadata": {
    "scrolled": true
   },
   "outputs": [],
   "source": [
    "test_img = cv2.imread('D:\\\\PneumothoraxDetection\\\\siim-raw\\\\train-dataset\\\\train_raw_png_part2\\\\1.2.276.0.7230010.3.1.4.8323329.31712.1517875156.434784.png', cv2.IMREAD_COLOR)       \n",
    "plt.imshow(test_img, cmap='gray')\n",
    "#print(test_img)\n",
    "test_img = cv2.resize(test_img, (SIZE_Y, SIZE_X))\n",
    "test_img = cv2.cvtColor(test_img, cv2.COLOR_RGB2GRAY)\n",
    "test_img = np.expand_dims(test_img, axis=0)\n",
    "test_img.shape"
   ]
  },
  {
   "cell_type": "code",
   "execution_count": null,
   "id": "eb7e0d73",
   "metadata": {},
   "outputs": [],
   "source": [
    "test_img.reshape(1,128,128,1)"
   ]
  },
  {
   "cell_type": "code",
   "execution_count": null,
   "id": "f4f941ba",
   "metadata": {},
   "outputs": [],
   "source": [
    "test_img = np.expand_dims(test_img, axis=3)\n",
    "test_img.shape"
   ]
  },
  {
   "cell_type": "code",
   "execution_count": null,
   "id": "5a7e29e1",
   "metadata": {},
   "outputs": [],
   "source": [
    "prediction = model.predict(test_img)"
   ]
  },
  {
   "cell_type": "code",
   "execution_count": null,
   "id": "a9340ddf",
   "metadata": {
    "scrolled": true
   },
   "outputs": [],
   "source": [
    "prediction_image = prediction.reshape(mask.shape)\n",
    "plt.imshow(prediction_image.squeeze(), cmap='bone')  #Reds"
   ]
  },
  {
   "cell_type": "code",
   "execution_count": null,
   "id": "359bf1d6",
   "metadata": {},
   "outputs": [],
   "source": [
    "plt.imsave('D:\\\\PneumothoraxDetection\\\\siim-raw\\\\train-dataset\\\\train_png\\\\train_prediction_results\\\\mask_result.png', prediction_image, cmap='gray')"
   ]
  },
  {
   "cell_type": "code",
   "execution_count": null,
   "id": "7ba506da",
   "metadata": {},
   "outputs": [],
   "source": [
    "#def bounding_box(img):\n",
    "#    # return max and min of a mask to draw bounding box\n",
    "#    rows = np.any(img, axis=1)\n",
    "#    cols = np.any(img, axis=0)\n",
    "#    rmin, rmax = np.where(rows)[0][[0, -1]]\n",
    "#    cmin, cmax = np.where(cols)[0][[0, -1]]\n",
    "#    \n",
    "#    return rmin, cmin, rmax, cmax #ymin,xmin,ymax,cmax"
   ]
  },
  {
   "cell_type": "code",
   "execution_count": null,
   "id": "fd06a210",
   "metadata": {},
   "outputs": [],
   "source": [
    "#def plot_imgs(n,df):\n",
    "#    for i in range(n):\n",
    "#        #idx = np.random.randint(0,df.shape[0])\n",
    "#        #tmp = df.iloc[idx]\n",
    "#        # path of file\n",
    "        #path = tmp['filepath']\n",
    "        #encoding = tmp['EncodedPixels']\n",
    "        #image = pydicom.dcmread(path).pixel_array\n",
    "#        fig, axes = plt.subplots(1,4, figsize=(20,15))\n",
    "#        axes[0].imshow(test_img, cmap='bone')\n",
    "#        axes[0].set_title('Image')\n",
    "#        mask = rle2mask(encoding,image.shape[0],image.shape[1])\n",
    "#        axes[1].imshow(prediction_image,cmap='gray')\n",
    "#        axes[1].set_title('Mask')\n",
    "#        axes[2].imshow(test_img,cmap='bone')\n",
    "#        axes[2].imshow(prediction_image,alpha=0.3,cmap='Reds')\n",
    "#        axes[2].set_title('Image + mask')\n",
    "#        rmin, cmin, rmax, cmax = bounding_box(mask)\n",
    "#        image_rgb = cv2.cvtColor(image,cv2.COLOR_GRAY2RGB)\n",
    "#        cv2.rectangle(image_rgb, (cmin,rmin),(cmax,rmax), (255,255,0), 5)\n",
    "#        axes[3].imshow(image_rgb)\n",
    "#        axes[3].imshow(mask,alpha=0.3,cmap='Reds')\n",
    "#        axes[3].set_title('Image Box Annoted')\n",
    "#        plt.show()"
   ]
  },
  {
   "cell_type": "code",
   "execution_count": null,
   "id": "a46375e7",
   "metadata": {},
   "outputs": [],
   "source": [
    "#tmp = \n",
    "#plot_imgs(15,tmp)"
   ]
  }
 ],
 "metadata": {
  "kernelspec": {
   "display_name": "python3.7",
   "language": "python",
   "name": "python3.7"
  },
  "language_info": {
   "codemirror_mode": {
    "name": "ipython",
    "version": 3
   },
   "file_extension": ".py",
   "mimetype": "text/x-python",
   "name": "python",
   "nbconvert_exporter": "python",
   "pygments_lexer": "ipython3",
   "version": "3.7.13"
  },
  "vscode": {
   "interpreter": {
    "hash": "ea5f36568b78810b1045c9c49afe592e08bd8e62845bc6c4ef286fbe4ca56838"
   }
  }
 },
 "nbformat": 4,
 "nbformat_minor": 5
}
